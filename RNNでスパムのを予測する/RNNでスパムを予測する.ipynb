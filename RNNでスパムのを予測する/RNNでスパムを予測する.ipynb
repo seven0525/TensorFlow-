{
 "cells": [
  {
   "cell_type": "markdown",
   "metadata": {},
   "source": [
    "標準RNNを使いSpamデータセットをスパムと判断できるか実践してみる。\n",
    "（埋め込みテキストから入力RNNシーケンスをとり、RNNの最後の出力としてスパムかどうか判定する予測値（0 or 1）を扱う）"
   ]
  },
  {
   "cell_type": "code",
   "execution_count": 2,
   "metadata": {},
   "outputs": [
    {
     "name": "stderr",
     "output_type": "stream",
     "text": [
      "/anaconda3/lib/python3.6/importlib/_bootstrap.py:219: RuntimeWarning: compiletime version 3.5 of module 'tensorflow.python.framework.fast_tensor_util' does not match runtime version 3.6\n",
      "  return f(*args, **kwds)\n",
      "/anaconda3/lib/python3.6/site-packages/h5py/__init__.py:36: FutureWarning: Conversion of the second argument of issubdtype from `float` to `np.floating` is deprecated. In future, it will be treated as `np.float64 == np.dtype(float).type`.\n",
      "  from ._conv import register_converters as _register_converters\n"
     ]
    }
   ],
   "source": [
    "import os\n",
    "import re\n",
    "import io\n",
    "import requests\n",
    "import numpy as np\n",
    "import matplotlib.pyplot as plt\n",
    "import tensorflow as tf\n",
    "from zipfile import ZipFile\n",
    "\n",
    "sess = tf.Session()"
   ]
  },
  {
   "cell_type": "code",
   "execution_count": 3,
   "metadata": {},
   "outputs": [],
   "source": [
    "# RNNパラメーターの設定\n",
    "epochs = 50\n",
    "batch_size = 250\n",
    "max_sequence_length = 25 #調べるテキストの最大の長さ\n",
    "rnn_size = 10 #ノード数\n",
    "embedding_size = 50 #サイズが50のトレーニング可能なベクトル\n",
    "min_word_frequency = 10 #10回以上出現する単語のみを考慮\n",
    "learning_rate = 0.0005 #ドロップアウト確率（セルを無視する確率）\n",
    "dropout_keep_prob = tf.placeholder(tf.float32)"
   ]
  },
  {
   "cell_type": "code",
   "execution_count": 4,
   "metadata": {},
   "outputs": [],
   "source": [
    "# Spamデータセットのテキストデータを取得\n",
    "data_dir = 'temp'\n",
    "data_file = 'text_data.txt'\n",
    "if not os.path.exists(data_dir):\n",
    "    os.makedirs(data_dir)\n",
    "\n",
    "if not os.path.isfile(os.path.join(data_dir, data_file)):\n",
    "    zip_url = 'http://archive.ics.uci.edu/ml/machine-learning-databases/00228/smsspamcollection.zip'\n",
    "    r = requests.get(zip_url)\n",
    "    z = ZipFile(io.BytesIO(r.content))\n",
    "    file = z.read('SMSSpamCollection')\n",
    "    \n",
    "    # データの書式設定\n",
    "    text_data = file.decode()\n",
    "    text_data = text_data.encode('ascii', errors='ignore')\n",
    "    text_data = text_data.decode().split('\\n')\n",
    "\n",
    "    # データをテキストファイルに保存\n",
    "    with open(os.path.join(data_dir, data_file), 'w') as file_conn:\n",
    "        for text in text_data:\n",
    "            file_conn.write(\"{}\\n\".format(text))\n",
    "else:\n",
    "    # テキストファイルからデータを読み込む\n",
    "    text_data = []\n",
    "    with open(os.path.join(data_dir, data_file), 'r') as file_conn:\n",
    "        for row in file_conn:\n",
    "            text_data.append(row)\n",
    "    text_data = text_data[:-1]\n",
    "\n",
    "text_data = [x.split('\\t') for x in text_data if len(x) >= 1]\n",
    "[text_data_target, text_data_train] = [list(x) for x in zip(*text_data)]"
   ]
  },
  {
   "cell_type": "code",
   "execution_count": 5,
   "metadata": {},
   "outputs": [],
   "source": [
    "# 語彙のサイズを減らすために、入力テキストから特殊文字と余分な空白を取り除き、英字をすべて小文字にする\n",
    "def clean_text(text_string):\n",
    "    text_string = re.sub(r'([^\\s\\w]|_|[0-9])+', '', text_string)\n",
    "    text_string = \" \".join(text_string.split())\n",
    "    text_string = text_string.lower()\n",
    "    return text_string\n",
    " \n",
    "text_data_train = [clean_text(x) for x in text_data_train]"
   ]
  },
  {
   "cell_type": "code",
   "execution_count": 7,
   "metadata": {},
   "outputs": [],
   "source": [
    "# テキストをインデックスのリストに変換する（TensorFlowに適応させるため）\n",
    "vocab_processor = tf.contrib.learn.preprocessing.VocabularyProcessor(max_sequence_length,min_frequency=min_word_frequency)\n",
    "text_processed = np.array(list(vocab_processor.fit_transform(text_data_train)))"
   ]
  },
  {
   "cell_type": "code",
   "execution_count": 8,
   "metadata": {},
   "outputs": [],
   "source": [
    "# データをシャッフルした上で分割する\n",
    "text_processed = np.array(text_processed)\n",
    "text_data_target = np.array([1 if x == 'ham' else 0 for x in text_data_target])\n",
    "shuffled_ix = np.random.permutation(np.arange(len(text_data_target)))\n",
    "x_shuffled = text_processed[shuffled_ix]\n",
    "y_shuffled = text_data_target[shuffled_ix]"
   ]
  },
  {
   "cell_type": "code",
   "execution_count": 11,
   "metadata": {},
   "outputs": [
    {
     "name": "stdout",
     "output_type": "stream",
     "text": [
      "Vocabulary Size: 933\n",
      "80-20 Train Test split: 4459 -- 1115\n"
     ]
    }
   ],
   "source": [
    "# データを80:20でトレーニングセットとテストセットに分割する(今回はハイパーパラメータのチューニングは行わない)\n",
    "ix_cutoff = int(len(y_shuffled)*0.80)\n",
    "x_train, x_test = x_shuffled[:ix_cutoff], x_shuffled[ix_cutoff:]\n",
    "y_train, y_test = y_shuffled[:ix_cutoff], y_shuffled[ix_cutoff:]\n",
    "vocab_size = len(vocab_processor.vocabulary_)\n",
    "print(\"Vocabulary Size: {:d}\".format(vocab_size))\n",
    "print(\"80-20 Train Test split: {:d} -- {:d}\".format(len(y_train), len(y_test)))"
   ]
  },
  {
   "cell_type": "code",
   "execution_count": 12,
   "metadata": {},
   "outputs": [],
   "source": [
    "# プレースホルダの設定\n",
    "x_data = tf.placeholder(tf.int32, [None, max_sequence_length])\n",
    "y_output = tf.placeholder(tf.int32, [None])"
   ]
  },
  {
   "cell_type": "code",
   "execution_count": 13,
   "metadata": {},
   "outputs": [],
   "source": [
    "# X入力データの埋め込み行列と埋め込み探索演算を作成する\n",
    "embedding_mat = tf.Variable(tf.random_uniform([vocab_size, embedding_size], -1.0, 1.0))\n",
    "embedding_output = tf.nn.embedding_lookup(embedding_mat, x_data)"
   ]
  },
  {
   "cell_type": "code",
   "execution_count": 14,
   "metadata": {},
   "outputs": [],
   "source": [
    "# モデルの設定\n",
    "if tf.__version__[0] >= '1':\n",
    "    cell = tf.contrib.rnn.BasicRNNCell(num_units=rnn_size)\n",
    "else:\n",
    "    cell = tf.nn.rnn_cell.BasicRNNCell(num_units=rnn_size)\n",
    "\n",
    "output, state = tf.nn.dynamic_rnn(cell, embedding_output, dtype=tf.float32)\n",
    "output = tf.nn.dropout(output, dropout_keep_prob)"
   ]
  },
  {
   "cell_type": "code",
   "execution_count": 15,
   "metadata": {},
   "outputs": [],
   "source": [
    "# RNNシーケンスの出力を取得\n",
    "output = tf.transpose(output, [1, 0, 2])\n",
    "last = tf.gather(output, int(output.get_shape()[0]) - 1)"
   ]
  },
  {
   "cell_type": "code",
   "execution_count": 16,
   "metadata": {},
   "outputs": [],
   "source": [
    "# 予測を終了するには、全結合層を使ってrnn_sizeの大きさの出力を2カテゴリの出力に変換する\n",
    "weight = tf.Variable(tf.truncated_normal([rnn_size, 2], stddev=0.1))\n",
    "bias = tf.Variable(tf.constant(0.1, shape=[2]))\n",
    "logits_out = tf.matmul(last, weight) + bias"
   ]
  },
  {
   "cell_type": "code",
   "execution_count": 17,
   "metadata": {},
   "outputs": [],
   "source": [
    "# 損失関数を設定する\n",
    "# ソフトマックス関数を使用する場合は、目的値を整数型のインデックスに変換、ロジットを浮動小数点数に変換しなくてはならない\n",
    "losses = tf.nn.sparse_softmax_cross_entropy_with_logits(logits=logits_out, labels=y_output)\n",
    "loss = tf.reduce_mean(losses)"
   ]
  },
  {
   "cell_type": "code",
   "execution_count": 18,
   "metadata": {},
   "outputs": [],
   "source": [
    "# 正解関数の設定\n",
    "accuracy = tf.reduce_mean(tf.cast(tf.equal(tf.argmax(logits_out, 1), tf.cast(y_output, tf.int64)), tf.float32))"
   ]
  },
  {
   "cell_type": "code",
   "execution_count": 20,
   "metadata": {},
   "outputs": [
    {
     "name": "stderr",
     "output_type": "stream",
     "text": [
      "/anaconda3/lib/python3.6/site-packages/tensorflow/python/ops/gradients_impl.py:96: UserWarning: Converting sparse IndexedSlices to a dense Tensor of unknown shape. This may consume a large amount of memory.\n",
      "  \"Converting sparse IndexedSlices to a dense Tensor of unknown shape. \"\n"
     ]
    }
   ],
   "source": [
    "# 最適化関数を宣言し、モデルの変数を初期化する\n",
    "optimizer = tf.train.RMSPropOptimizer(learning_rate)\n",
    "train_step = optimizer.minimize(loss)\n",
    "\n",
    "init = tf.global_variables_initializer()\n",
    "sess.run(init)"
   ]
  },
  {
   "cell_type": "code",
   "execution_count": 21,
   "metadata": {},
   "outputs": [
    {
     "name": "stdout",
     "output_type": "stream",
     "text": [
      "Epoch: 1, Test Loss: 0.7, Test Acc: 0.17\n",
      "Epoch: 2, Test Loss: 0.67, Test Acc: 0.83\n",
      "Epoch: 3, Test Loss: 0.62, Test Acc: 0.83\n",
      "Epoch: 4, Test Loss: 0.58, Test Acc: 0.84\n",
      "Epoch: 5, Test Loss: 0.53, Test Acc: 0.84\n",
      "Epoch: 6, Test Loss: 0.48, Test Acc: 0.85\n",
      "Epoch: 7, Test Loss: 0.45, Test Acc: 0.85\n",
      "Epoch: 8, Test Loss: 0.43, Test Acc: 0.85\n",
      "Epoch: 9, Test Loss: 0.41, Test Acc: 0.86\n",
      "Epoch: 10, Test Loss: 0.4, Test Acc: 0.86\n",
      "Epoch: 11, Test Loss: 0.4, Test Acc: 0.87\n",
      "Epoch: 12, Test Loss: 0.39, Test Acc: 0.87\n",
      "Epoch: 13, Test Loss: 0.39, Test Acc: 0.87\n",
      "Epoch: 14, Test Loss: 0.39, Test Acc: 0.88\n",
      "Epoch: 15, Test Loss: 0.38, Test Acc: 0.87\n",
      "Epoch: 16, Test Loss: 0.38, Test Acc: 0.87\n",
      "Epoch: 17, Test Loss: 0.38, Test Acc: 0.87\n",
      "Epoch: 18, Test Loss: 0.38, Test Acc: 0.87\n",
      "Epoch: 19, Test Loss: 0.38, Test Acc: 0.87\n",
      "Epoch: 20, Test Loss: 0.37, Test Acc: 0.87\n",
      "Epoch: 21, Test Loss: 0.37, Test Acc: 0.87\n",
      "Epoch: 22, Test Loss: 0.37, Test Acc: 0.87\n",
      "Epoch: 23, Test Loss: 0.37, Test Acc: 0.87\n",
      "Epoch: 24, Test Loss: 0.36, Test Acc: 0.87\n",
      "Epoch: 25, Test Loss: 0.36, Test Acc: 0.88\n",
      "Epoch: 26, Test Loss: 0.35, Test Acc: 0.88\n",
      "Epoch: 27, Test Loss: 0.31, Test Acc: 0.89\n",
      "Epoch: 28, Test Loss: 0.28, Test Acc: 0.89\n",
      "Epoch: 29, Test Loss: 0.27, Test Acc: 0.9\n",
      "Epoch: 30, Test Loss: 0.24, Test Acc: 0.91\n",
      "Epoch: 31, Test Loss: 0.25, Test Acc: 0.89\n",
      "Epoch: 32, Test Loss: 0.21, Test Acc: 0.93\n",
      "Epoch: 33, Test Loss: 0.2, Test Acc: 0.95\n",
      "Epoch: 34, Test Loss: 0.18, Test Acc: 0.95\n",
      "Epoch: 35, Test Loss: 0.17, Test Acc: 0.95\n",
      "Epoch: 36, Test Loss: 0.16, Test Acc: 0.95\n",
      "Epoch: 37, Test Loss: 0.16, Test Acc: 0.95\n",
      "Epoch: 38, Test Loss: 0.16, Test Acc: 0.95\n",
      "Epoch: 39, Test Loss: 0.15, Test Acc: 0.96\n",
      "Epoch: 40, Test Loss: 0.14, Test Acc: 0.95\n",
      "Epoch: 41, Test Loss: 0.14, Test Acc: 0.96\n",
      "Epoch: 42, Test Loss: 0.13, Test Acc: 0.96\n",
      "Epoch: 43, Test Loss: 0.13, Test Acc: 0.96\n",
      "Epoch: 44, Test Loss: 0.12, Test Acc: 0.96\n",
      "Epoch: 45, Test Loss: 0.12, Test Acc: 0.96\n",
      "Epoch: 46, Test Loss: 0.12, Test Acc: 0.96\n",
      "Epoch: 47, Test Loss: 0.11, Test Acc: 0.96\n",
      "Epoch: 48, Test Loss: 0.12, Test Acc: 0.96\n",
      "Epoch: 49, Test Loss: 0.1, Test Acc: 0.97\n",
      "Epoch: 50, Test Loss: 0.1, Test Acc: 0.97\n"
     ]
    }
   ],
   "source": [
    "# トレーニングの開始（過学習を防ぐために、エポックごとにでデータをシャッフルする）\n",
    "train_loss = []\n",
    "test_loss = []\n",
    "train_accuracy = []\n",
    "test_accuracy = []\n",
    "\n",
    "# トレーニングを開始\n",
    "for epoch in range(epochs):\n",
    "\n",
    "    # トレーニンングデータをシャッフル\n",
    "    shuffled_ix = np.random.permutation(np.arange(len(x_train)))\n",
    "    x_train = x_train[shuffled_ix]\n",
    "    y_train = y_train[shuffled_ix]\n",
    "    num_batches = int(len(x_train)/batch_size) + 1\n",
    "    # TO DO CALCULATE GENERATIONS ExACTLY\n",
    "    for i in range(num_batches):\n",
    "        # トレーニンングデータを選択\n",
    "        min_ix = i * batch_size\n",
    "        max_ix = np.min([len(x_train), ((i+1) * batch_size)])\n",
    "        x_train_batch = x_train[min_ix:max_ix]\n",
    "        y_train_batch = y_train[min_ix:max_ix]\n",
    "        \n",
    "        # トレーニングステップを実行\n",
    "        train_dict = {x_data: x_train_batch, y_output: y_train_batch, dropout_keep_prob:0.5}\n",
    "        sess.run(train_step, feed_dict=train_dict)\n",
    "        \n",
    "    # トレーニングの損失値と正解率を計算\n",
    "    temp_train_loss, temp_train_acc = sess.run([loss, accuracy], feed_dict=train_dict)\n",
    "    train_loss.append(temp_train_loss)\n",
    "    train_accuracy.append(temp_train_acc)\n",
    "    \n",
    "    # 評価ステップを実行\n",
    "    test_dict = {x_data: x_test, y_output: y_test, dropout_keep_prob:1.0}\n",
    "    temp_test_loss, temp_test_acc = sess.run([loss, accuracy], feed_dict=test_dict)\n",
    "    test_loss.append(temp_test_loss)\n",
    "    test_accuracy.append(temp_test_acc)\n",
    "    print('Epoch: {}, Test Loss: {:.2}, Test Acc: {:.2}'.format(epoch+1, temp_test_loss, temp_test_acc))"
   ]
  },
  {
   "cell_type": "code",
   "execution_count": 22,
   "metadata": {},
   "outputs": [
    {
     "data": {
      "image/png": "[encoded data removed]",
      "text/plain": [
       "<matplotlib.figure.Figure at 0xb1b460ba8>"
      ]
     },
     "metadata": {},
     "output_type": "display_data"
    },
    {
     "data": {
      "image/png": "[encoded data removed]",
      "text/plain": [
       "<matplotlib.figure.Figure at 0xd2790a828>"
      ]
     },
     "metadata": {},
     "output_type": "display_data"
    }
   ],
   "source": [
    "# トレーニングセットとテストセットの損失値と正解率をプロット\n",
    "%matplotlib inline\n",
    "\n",
    "# 損失血をプロット\n",
    "epoch_seq = np.arange(1, epochs+1)\n",
    "plt.plot(epoch_seq, train_loss, 'k--', label='Train Set')\n",
    "plt.plot(epoch_seq, test_loss, 'r-', label='Test Set')\n",
    "plt.title('Softmax Loss')\n",
    "plt.xlabel('Epochs')\n",
    "plt.ylabel('Softmax Loss')\n",
    "plt.legend(loc='upper left')\n",
    "plt.show()\n",
    "\n",
    "# 正解率をプロット\n",
    "plt.plot(epoch_seq, train_accuracy, 'k--', label='Train Set')\n",
    "plt.plot(epoch_seq, test_accuracy, 'r-', label='Test Set')\n",
    "plt.title('Test Accuracy')\n",
    "plt.xlabel('Epochs')\n",
    "plt.ylabel('Accuracy')\n",
    "plt.legend(loc='lower right')\n",
    "plt.show()"
   ]
  },
  {
   "cell_type": "markdown",
   "metadata": {},
   "source": [
    "テストデータで約97%の正解率を達成！！\n",
    "シーケンシャルデータの場合は、トレーニングセットを複数回処理することが重要！\n",
    "また、シーケンシャルでないデータで試してみることもオススメ\n"
   ]
  }
 ],
 "metadata": {
  "kernelspec": {
   "display_name": "Python 3",
   "language": "python",
   "name": "python3"
  },
  "language_info": {
   "codemirror_mode": {
    "name": "ipython",
    "version": 3
   },
   "file_extension": ".py",
   "mimetype": "text/x-python",
   "name": "python",
   "nbconvert_exporter": "python",
   "pygments_lexer": "ipython3",
   "version": "3.6.4"
  }
 },
 "nbformat": 4,
 "nbformat_minor": 2
}
